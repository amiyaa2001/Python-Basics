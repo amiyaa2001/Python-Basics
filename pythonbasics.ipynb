{
  "nbformat": 4,
  "nbformat_minor": 0,
  "metadata": {
    "colab": {
      "provenance": []
    },
    "kernelspec": {
      "name": "python3",
      "display_name": "Python 3"
    },
    "language_info": {
      "name": "python"
    }
  },
  "cells": [
    {
      "cell_type": "markdown",
      "source": [
        "1. What is Python, and why is it popular?\n",
        "   - Python is a programming language which consists of rules and symbols that define the process of writing a computer programme.\n",
        "   - Python is popular beacause:-\n",
        "      - it is widely used in industry\n",
        "      - it has a lot of libraries\n",
        "      - automation\n",
        "      - easy to learn\n",
        "      - versatile\n",
        "      - has a huge active community\n",
        "\n",
        "2. What is an interpreter in Python?\n",
        "  - The Python interpreter translates python code to machine readable language and exceutes the code line by line.\n",
        "\n",
        "3. What are pre-defined keywords in Python?\n",
        "  - variables or identifiers where we keep variety of data which we can use to write logic.\n",
        "\n",
        "4. Can keywords be used as variable names?\n",
        "  - No\n",
        "\n",
        "5. What is mutability in Python?\n",
        "  - containers whoce state or value can be changed after they are created are called mutable containers. The action is called mutability.\n",
        "\n",
        "6. Why are lists mutable, but tuples are immutable?\n",
        "  - The contents of tuples cannot be changed after creation, hence tuples are immutable. The contents of lists can be changed after creation, hence lists are mutable.\n",
        "\n",
        "7. What is the difference between “==” and “is” operators in Python?\n",
        "  - == is a comparison operator while \"is' determine whether the two variables point to the same object in memory.\n",
        "\n",
        "8. What are logical operators in Python?\n",
        "  - AND operator- returns value as TRUE if both the given conditions are TRUE\n",
        "  - OR operator- returns value as TRUE if any of the given conditions is TRUE>\n",
        "\n",
        "9. What is type casting in Python?\n",
        "  - Type casting is converting from one data type to another.\n",
        "\n",
        "10. What is the difference between implicit and explicit type casting?\n",
        "  - Implicit type casting - Python understands the data type by default\n",
        "  - Explicit type casting - converting datatypes using inbuilt functions\n",
        "\n",
        "11. What is the purpose of conditional statements in Python?\n",
        "  - To exceute a block of code if a given condition is met.\n",
        "\n",
        "12. How does the elif statement work?\n",
        "  - elif is used when multiple conditions need to be checked before executing a block of code. We can use 1st condition with \"if\", rest condition with \"elif\", and the last condition with \"else\".\n",
        "\n",
        "13. What is the difference between for and while loops/\n",
        "  - for loop is used when we want to itirate through a specific sequence of elements while the while loop repeats a block of code unless a certain condtion is true.\n",
        "\n",
        "14.  Describe a scenario where a while loop is more suitable than a for loop.\n",
        "  - a case where no sequence can be used and no number of itirations can be said beforehand, is a case where the while loop is more suitable than the for loop.\n",
        "  \n",
        "\n"
      ],
      "metadata": {
        "id": "6TGrV_Ktk55N"
      }
    },
    {
      "cell_type": "markdown",
      "source": [],
      "metadata": {
        "id": "eJMXHEgQlnOI"
      }
    },
    {
      "cell_type": "code",
      "source": [
        "#1. Write a Python program to print \"Hello, World!_\n",
        "print ('Hello World')\n"
      ],
      "metadata": {
        "collapsed": true,
        "id": "vFWanfkllAXV"
      },
      "execution_count": null,
      "outputs": []
    },
    {
      "cell_type": "code",
      "source": [
        "#2. Write a Python program that displays your name and age\n",
        "x = \"Amiyaa Dastidar\"\n",
        "y = 23\n",
        "print (\"I am \",x,\" my age is \",y)"
      ],
      "metadata": {
        "id": "24ID0IpcluZU"
      },
      "execution_count": null,
      "outputs": []
    },
    {
      "cell_type": "code",
      "source": [
        "#3. Write code to print all the pre-defined keywords in Python using the keyword library\n",
        "help (\"keywords\")\n"
      ],
      "metadata": {
        "colab": {
          "base_uri": "https://localhost:8080/"
        },
        "id": "yFOytpB0movr",
        "outputId": "41be491f-1f91-484a-f44a-0f88102e4eba"
      },
      "execution_count": null,
      "outputs": [
        {
          "output_type": "stream",
          "name": "stdout",
          "text": [
            "\n",
            "Here is a list of the Python keywords.  Enter any keyword to get more help.\n",
            "\n",
            "False               class               from                or\n",
            "None                continue            global              pass\n",
            "True                def                 if                  raise\n",
            "and                 del                 import              return\n",
            "as                  elif                in                  try\n",
            "assert              else                is                  while\n",
            "async               except              lambda              with\n",
            "await               finally             nonlocal            yield\n",
            "break               for                 not                 \n",
            "\n"
          ]
        }
      ]
    },
    {
      "cell_type": "code",
      "source": [
        "#4. Write a program that checks if a given word is a Python keyword\n",
        "b=help(\"keywords\")\n",
        "a = input(\"Enter word:\" )\n",
        "if a in b:\n",
        "  print(a,\" is a keyword\")\n",
        "else:\n",
        "  print(a,\" is not a keyword\")\n"
      ],
      "metadata": {
        "id": "F4N44es9nF9B"
      },
      "execution_count": null,
      "outputs": []
    },
    {
      "cell_type": "code",
      "source": [
        "#5. Create a list and tuple in Python, and demonstrate how attempting to change an element works differently for each.\n",
        "tup=(24,\"Hello world\",'a',[3,6,1,7])\n",
        "lis=[4,7,2,9]\n",
        "tup[2]=\"Hi world\" #this will show error\n",
        "lis[3]=5 #this will change the element at index 3 to integer 5\n",
        "print(tup[1])\n",
        "print(lis[3])"
      ],
      "metadata": {
        "id": "ZvgKux_Qpu9q",
        "colab": {
          "base_uri": "https://localhost:8080/"
        },
        "outputId": "67c4d511-eba4-415d-f806-cf71bfe77bf3"
      },
      "execution_count": 22,
      "outputs": [
        {
          "output_type": "stream",
          "name": "stdout",
          "text": [
            "Hello world\n",
            "5\n"
          ]
        }
      ]
    },
    {
      "cell_type": "code",
      "source": [
        "#6. Write a function to demonstrate the behavior of mutable and immutable arguments\n",
        "#list is mutable\n",
        "lis=[3,6,2,9,1,7]\n",
        "lis[2]=5\n",
        "print(lis)\n",
        "#string is immutable\n",
        "b=\"amiyaa\"\n",
        "b[0]=\"P\""
      ],
      "metadata": {
        "id": "dNGFByR-qABN",
        "colab": {
          "base_uri": "https://localhost:8080/",
          "height": 193
        },
        "outputId": "7b35c72b-4707-481a-a32c-4579e79c7919"
      },
      "execution_count": 29,
      "outputs": [
        {
          "output_type": "stream",
          "name": "stdout",
          "text": [
            "[3, 6, 5, 9, 1, 7]\n"
          ]
        },
        {
          "output_type": "error",
          "ename": "TypeError",
          "evalue": "'str' object does not support item assignment",
          "traceback": [
            "\u001b[0;31m---------------------------------------------------------------------------\u001b[0m",
            "\u001b[0;31mTypeError\u001b[0m                                 Traceback (most recent call last)",
            "\u001b[0;32m<ipython-input-29-56e7a68c2ebe>\u001b[0m in \u001b[0;36m<cell line: 7>\u001b[0;34m()\u001b[0m\n\u001b[1;32m      5\u001b[0m \u001b[0mprint\u001b[0m\u001b[0;34m(\u001b[0m\u001b[0mlis\u001b[0m\u001b[0;34m)\u001b[0m\u001b[0;34m\u001b[0m\u001b[0;34m\u001b[0m\u001b[0m\n\u001b[1;32m      6\u001b[0m \u001b[0mb\u001b[0m\u001b[0;34m=\u001b[0m\u001b[0;34m\"amiyaa\"\u001b[0m\u001b[0;34m\u001b[0m\u001b[0;34m\u001b[0m\u001b[0m\n\u001b[0;32m----> 7\u001b[0;31m \u001b[0mb\u001b[0m\u001b[0;34m[\u001b[0m\u001b[0;36m0\u001b[0m\u001b[0;34m]\u001b[0m\u001b[0;34m=\u001b[0m\u001b[0;34m\"P\"\u001b[0m\u001b[0;34m\u001b[0m\u001b[0;34m\u001b[0m\u001b[0m\n\u001b[0m",
            "\u001b[0;31mTypeError\u001b[0m: 'str' object does not support item assignment"
          ]
        }
      ]
    },
    {
      "cell_type": "code",
      "source": [
        "#7. Write a function to demonstrate the behavior of mutable and immutable arguments\n",
        "#list is mutable\n",
        "lis=[3,6,2,9,1,7]\n",
        "lis[2]=5\n",
        "print(lis)\n",
        "#string is immutable\n",
        "b=\"amiyaa\"\n",
        "b[0]=\"P\""
      ],
      "metadata": {
        "id": "vWuZWYHXqH2Z"
      },
      "execution_count": null,
      "outputs": []
    },
    {
      "cell_type": "code",
      "source": [
        "#8. Write a program to demonstrate the use of logical operators\n",
        "a=2\n",
        "b=3\n",
        "c=3\n",
        "if(a>b&a>c):\n",
        "  print(a,\" is greatest\")\n",
        "if (a>b or b>c):\n",
        "  print(a, \"is smallest\")"
      ],
      "metadata": {
        "id": "no74KRdxqTCd"
      },
      "execution_count": 16,
      "outputs": []
    },
    {
      "cell_type": "code",
      "source": [
        "#9. Write a Python program to convert user input from string to integer, float, and boolean types\n",
        "a= input(\"Enter: \")\n",
        "print(int(a))\n",
        "print(float(a))\n",
        "print(bool(a))\n"
      ],
      "metadata": {
        "id": "nKDyOad3qbHn",
        "colab": {
          "base_uri": "https://localhost:8080/"
        },
        "outputId": "ab897354-afa5-412f-f4cd-4c673ccf8c5a"
      },
      "execution_count": 10,
      "outputs": [
        {
          "output_type": "stream",
          "name": "stdout",
          "text": [
            "Enter: 78\n",
            "78\n",
            "78.0\n",
            "True\n"
          ]
        }
      ]
    },
    {
      "cell_type": "code",
      "source": [
        "#10. Write code to demonstrate type casting with list elements\n",
        "lis=[3,6,2,9,1,7]\n",
        "a=(float(lis[0]))\n",
        "type(a)"
      ],
      "metadata": {
        "id": "8IYknrNDreOF",
        "colab": {
          "base_uri": "https://localhost:8080/"
        },
        "outputId": "c045b969-3800-48e7-aee6-6d338bf7ef26"
      },
      "execution_count": 25,
      "outputs": [
        {
          "output_type": "execute_result",
          "data": {
            "text/plain": [
              "float"
            ]
          },
          "metadata": {},
          "execution_count": 25
        }
      ]
    },
    {
      "cell_type": "code",
      "source": [
        "#11.  Write a program that checks if a number is positive, negative, or zero\n",
        "a=int (input(\"Enter number: \"))\n",
        "if(a<0):\n",
        "  print(\"Negative\")\n",
        "elif(a>0):\n",
        "  print(\"Positive\")\n",
        "else:\n",
        "  print(\"Zero\")"
      ],
      "metadata": {
        "id": "8rV0qSbprk7u"
      },
      "execution_count": null,
      "outputs": []
    },
    {
      "cell_type": "code",
      "source": [
        "#12. Write a for loop to print numbers from 1 to 10\n",
        "for i in range(0,11):\n",
        "  print (i)"
      ],
      "metadata": {
        "id": "Bhp7jyVIrsFB"
      },
      "execution_count": null,
      "outputs": []
    },
    {
      "cell_type": "code",
      "source": [
        "#13. Write a Python program to find the sum of all even numbers between 1 and 50\n",
        "sum=0\n",
        "for i in range(1,51):\n",
        "  if(i%2==0):\n",
        "    sum+=i;\n",
        "print(sum)\n"
      ],
      "metadata": {
        "colab": {
          "base_uri": "https://localhost:8080/"
        },
        "id": "Mhz3_xzMtM9t",
        "outputId": "64beadbf-e1b9-4a34-eb1b-df6ebc3e076e"
      },
      "execution_count": null,
      "outputs": [
        {
          "output_type": "stream",
          "name": "stdout",
          "text": [
            "650\n"
          ]
        }
      ]
    },
    {
      "cell_type": "code",
      "source": [
        "#14. Write a program to reverse a string using a while loop\n",
        "s=input(\"Enter: \")\n",
        "str2=\"\"\n",
        "i=0\n",
        "while i<len(s):\n",
        "  str2=s[i]+str2\n",
        "  i=i+1\n",
        "print(str2)\n"
      ],
      "metadata": {
        "id": "5WW0G5RNtRwW",
        "colab": {
          "base_uri": "https://localhost:8080/"
        },
        "outputId": "d7803cfb-4df1-430e-905a-85ab94259fcc"
      },
      "execution_count": 6,
      "outputs": [
        {
          "output_type": "stream",
          "name": "stdout",
          "text": [
            "Enter: Amiyaa\n",
            "aayimA\n"
          ]
        }
      ]
    },
    {
      "cell_type": "code",
      "source": [
        "#15. Write a Python program to calculate the factorial of a number provided by the user using a while loop\n",
        "a=int(input(\"Enter:\"))\n",
        "b=a\n",
        "prod=1\n",
        "while b>0:\n",
        "  prod=prod*b\n",
        "  b=b-1\n",
        "print(prod)\n"
      ],
      "metadata": {
        "id": "W5qCCTEVtYED",
        "colab": {
          "base_uri": "https://localhost:8080/"
        },
        "outputId": "110869b0-cf75-4a7f-8cf1-39847532206d"
      },
      "execution_count": 18,
      "outputs": [
        {
          "output_type": "stream",
          "name": "stdout",
          "text": [
            "Enter:7\n",
            "5040\n"
          ]
        }
      ]
    }
  ]
}